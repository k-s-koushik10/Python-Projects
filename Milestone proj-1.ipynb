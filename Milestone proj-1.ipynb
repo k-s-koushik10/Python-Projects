{
 "cells": [
  {
   "cell_type": "code",
   "execution_count": 3,
   "id": "05059fd5",
   "metadata": {},
   "outputs": [],
   "source": []
  },
  {
   "cell_type": "code",
   "execution_count": 1,
   "id": "de49d39f",
   "metadata": {},
   "outputs": [],
   "source": [
    "#Get user's respective input\n",
    "def user_input():\n",
    "    player1 = input(\"Please enter X or O\")\n",
    "    player2 = input(\"Please enter X or O\")\n",
    "    print(f'Player 1 is {player1}')\n",
    "    print(f'Player 2 is {player2}')"
   ]
  },
  {
   "cell_type": "code",
   "execution_count": 2,
   "id": "4b4a71ab",
   "metadata": {},
   "outputs": [],
   "source": [
    "#Print user output\n",
    "def current_output(current_list):\n",
    "    print(f'The current board is {current_list}')\n",
    "    upd_list(current_list)"
   ]
  },
  {
   "cell_type": "code",
   "execution_count": 3,
   "id": "7b85fbfa",
   "metadata": {},
   "outputs": [],
   "source": [
    "#Create user's list\n",
    "def curr_list(updated_list):\n",
    "    res = int(input(\"Enter a value from (0-2)\"))\n",
    "    taken=False\n",
    "    while taken!=True:\n",
    "        if(updated_list[res] == 'X' or updated_list[res] == 'O'):            \n",
    "            print(\"Please enter a valid position\")\n",
    "            taken=True\n",
    "            break            \n",
    "        p1_p2 = input(\"Enter P1 or P2\")\n",
    "        if(p1_p2 == \"p1\"):\n",
    "            updated_list[res] = 'X'\n",
    "        elif(p1_p2 == \"p2\"):\n",
    "            updated_list[res] = 'O'    \n",
    "    return current_output(updated_list)"
   ]
  },
  {
   "cell_type": "code",
   "execution_count": 4,
   "id": "888869aa",
   "metadata": {},
   "outputs": [],
   "source": [
    "#Updated cell list\n",
    "def upd_list(current_list):\n",
    "    print(len(current_list))\n",
    "    return curr_list(current_list)"
   ]
  },
  {
   "cell_type": "code",
   "execution_count": null,
   "id": "f25aa012",
   "metadata": {},
   "outputs": [],
   "source": []
  },
  {
   "cell_type": "code",
   "execution_count": 1,
   "id": "25924805",
   "metadata": {},
   "outputs": [],
   "source": [
    "#Step 1 - Display board\n",
    "from IPython.display import clear_output\n",
    "def display_board(board):\n",
    "    clear_output() \n",
    "    print('   |   |')\n",
    "    print(' ' + board[7] + ' | ' + board[8] + ' | ' + board[9])\n",
    "    print('   |   |')\n",
    "    print('-----------')\n",
    "    print('   |   |')\n",
    "    print(' ' + board[4] + ' | ' + board[5] + ' | ' + board[6])\n",
    "    print('   |   |')\n",
    "    print('-----------')\n",
    "    print('   |   |')\n",
    "    print(' ' + board[1] + ' | ' + board[2] + ' | ' + board[3])\n",
    "    print('   |   |')"
   ]
  },
  {
   "cell_type": "code",
   "execution_count": null,
   "id": "823a2cd8",
   "metadata": {},
   "outputs": [],
   "source": []
  },
  {
   "cell_type": "code",
   "execution_count": 2,
   "id": "6eb3a36b",
   "metadata": {},
   "outputs": [],
   "source": [
    "#Step 2 - Get user input\n",
    "def player_input():\n",
    "    marker = ''\n",
    "    while marker !='X' and marker !='O':\n",
    "        marker = input(\"Choose X or O \")\n",
    "        if marker == 'X':\n",
    "            return ('X','O')\n",
    "        else:\n",
    "            return ('O','X')"
   ]
  },
  {
   "cell_type": "code",
   "execution_count": null,
   "id": "de447766",
   "metadata": {},
   "outputs": [],
   "source": []
  },
  {
   "cell_type": "code",
   "execution_count": 3,
   "id": "b20df986",
   "metadata": {},
   "outputs": [],
   "source": [
    "#Step 3 - Assign the position to board\n",
    "def place_marker(board,position,marker):\n",
    "    board[position] = marker   "
   ]
  },
  {
   "cell_type": "code",
   "execution_count": null,
   "id": "d15d5ad9",
   "metadata": {},
   "outputs": [],
   "source": []
  },
  {
   "cell_type": "code",
   "execution_count": 4,
   "id": "86962403",
   "metadata": {},
   "outputs": [],
   "source": [
    "#Step 4 - To check for winner\n",
    "def win_check(board,mark):\n",
    "    return ((board[7] == mark and board[8] == mark and board[9] == mark) or # across the top\n",
    "    (board[4] == mark and board[5] == mark and board[6] == mark) or # across the middle\n",
    "    (board[1] == mark and board[2] == mark and board[3] == mark) or # across the bottom\n",
    "    (board[7] == mark and board[4] == mark and board[1] == mark) or # down the middle\n",
    "    (board[8] == mark and board[5] == mark and board[2] == mark) or # down the middle\n",
    "    (board[9] == mark and board[6] == mark and board[3] == mark) or # down the right side\n",
    "    (board[7] == mark and board[5] == mark and board[3] == mark) or # diagonal\n",
    "    (board[9] == mark and board[5] == mark and board[1] == mark)) # diagonal\n",
    "            "
   ]
  },
  {
   "cell_type": "code",
   "execution_count": null,
   "id": "4ae8debe",
   "metadata": {},
   "outputs": [],
   "source": []
  },
  {
   "cell_type": "code",
   "execution_count": 5,
   "id": "628c9055",
   "metadata": {},
   "outputs": [],
   "source": [
    "#Step 5 - To randomly decide which player to go first\n",
    "import random\n",
    "def choose_first():\n",
    "    flip = random.randint(0,1)\n",
    "    if(flip==0):\n",
    "        return \"Player 1\"\n",
    "    else:\n",
    "        return \"Player 2\""
   ]
  },
  {
   "cell_type": "code",
   "execution_count": null,
   "id": "7279ef31",
   "metadata": {},
   "outputs": [],
   "source": []
  },
  {
   "cell_type": "code",
   "execution_count": 6,
   "id": "b7d40ecd",
   "metadata": {},
   "outputs": [],
   "source": [
    "#Step 6 - To check for free space in board\n",
    "def space_check(board, position):\n",
    "    return board[position] == ''"
   ]
  },
  {
   "cell_type": "code",
   "execution_count": null,
   "id": "685e0f05",
   "metadata": {},
   "outputs": [],
   "source": []
  },
  {
   "cell_type": "code",
   "execution_count": 7,
   "id": "396922f4",
   "metadata": {},
   "outputs": [],
   "source": [
    "#Step 7 - To check if board is full\n",
    "def full_board_check(board):\n",
    "    for i in range(1,10):\n",
    "        if space_check(board,i):\n",
    "            return False\n",
    "    return True"
   ]
  },
  {
   "cell_type": "code",
   "execution_count": null,
   "id": "c806708d",
   "metadata": {},
   "outputs": [],
   "source": []
  },
  {
   "cell_type": "code",
   "execution_count": 8,
   "id": "a68c9a79",
   "metadata": {},
   "outputs": [],
   "source": [
    "#Step 8 - Ask for player's position\n",
    "def player_choice(board):\n",
    "    pos = 0\n",
    "    while pos not in [1,2,3,4,5,6,7,8,9] or not space_check(board,pos):\n",
    "        pos = int(input(\"Choose a position (1-9) \"))\n",
    "    return pos"
   ]
  },
  {
   "cell_type": "code",
   "execution_count": null,
   "id": "716af552",
   "metadata": {},
   "outputs": [],
   "source": []
  },
  {
   "cell_type": "code",
   "execution_count": 9,
   "id": "16a5a2c1",
   "metadata": {},
   "outputs": [],
   "source": [
    "#Step 9 - Ask players if they want to play again\n",
    "def replay(board):\n",
    "    choice=input(\"Play again? Y or N \")\n",
    "    return choice == \"Yes\""
   ]
  },
  {
   "cell_type": "code",
   "execution_count": null,
   "id": "3b3e7f7d",
   "metadata": {},
   "outputs": [],
   "source": []
  },
  {
   "cell_type": "code",
   "execution_count": 11,
   "id": "7189e432",
   "metadata": {
    "scrolled": false
   },
   "outputs": [
    {
     "name": "stdout",
     "output_type": "stream",
     "text": [
      "   |   |\n",
      " X |  | O\n",
      "   |   |\n",
      "-----------\n",
      "   |   |\n",
      " X |  | O\n",
      "   |   |\n",
      "-----------\n",
      "   |   |\n",
      " X |  | \n",
      "   |   |\n",
      "Player 1 WON!\n",
      "Play again? Y or N 3\n",
      "Thanks for playing\n"
     ]
    }
   ],
   "source": [
    "#Step 10 - To combine all above logics\n",
    "#While loop to continue running the game\n",
    "print(\"Welcome to TIC TAC TOE Game!!!\")\n",
    "while True:    \n",
    "    #Set Up(Board, whos first, markers)\n",
    "    the_board=['']*10\n",
    "    p1,p2 = player_input()\n",
    "    turn=choose_first()\n",
    "    print(turn+\" will go first\")\n",
    "    play_game = input(\"Ready to play? Y or N\")\n",
    "    if play_game==\"Y\":\n",
    "        game_on = True\n",
    "    else:\n",
    "        game_on = False\n",
    "    #Game play\n",
    "    while game_on:\n",
    "        \n",
    "        #Player 1 turn\n",
    "        if turn == 'Player 1':            \n",
    "            display_board(the_board)\n",
    "            position = player_choice(the_board)\n",
    "            place_marker(the_board,position,p1)\n",
    "            if win_check(the_board,p1):\n",
    "                display_board(the_board)\n",
    "                print(\"Player 1 WON!\")\n",
    "                break\n",
    "            else:\n",
    "                if full_board_check(the_board):\n",
    "                    display_board(the_board)\n",
    "                    print(\"The game is a TIE!\")\n",
    "                    break\n",
    "                else:\n",
    "                    turn = 'Player 2'\n",
    "            \n",
    "        #Player 2 turn\n",
    "        else:            \n",
    "            display_board(the_board)\n",
    "            position = player_choice(the_board)\n",
    "            place_marker(the_board,position,p2)\n",
    "            if win_check(the_board,p1):\n",
    "                display_board(the_board)\n",
    "                print(\"Player 2 WON!\")\n",
    "                break\n",
    "            else:\n",
    "                if full_board_check(the_board):\n",
    "                    display_board(the_board)\n",
    "                    print(\"The game is a TIE!\")\n",
    "                    break\n",
    "                else:\n",
    "                    turn = 'Player 1'\n",
    "            \n",
    "            \n",
    "    #Break out of while on replay()\n",
    "    if not replay(the_board):\n",
    "        print(\"Thanks for playing\")\n",
    "        break"
   ]
  },
  {
   "cell_type": "code",
   "execution_count": null,
   "id": "78dcb3f6",
   "metadata": {},
   "outputs": [],
   "source": []
  },
  {
   "cell_type": "code",
   "execution_count": null,
   "id": "8b4e8c92",
   "metadata": {},
   "outputs": [],
   "source": []
  }
 ],
 "metadata": {
  "kernelspec": {
   "display_name": "Python 3",
   "language": "python",
   "name": "python3"
  },
  "language_info": {
   "codemirror_mode": {
    "name": "ipython",
    "version": 3
   },
   "file_extension": ".py",
   "mimetype": "text/x-python",
   "name": "python",
   "nbconvert_exporter": "python",
   "pygments_lexer": "ipython3",
   "version": "3.8.8"
  }
 },
 "nbformat": 4,
 "nbformat_minor": 5
}
